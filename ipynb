[nltk_data] Downloading package stopwords to
[nltk_data]     C:\Users\firoc\AppData\Roaming\nltk_data...
[nltk_data]   Package stopwords is already up-to-date!
[nltk_data] Downloading package wordnet to
[nltk_data]     C:\Users\firoc\AppData\Roaming\nltk_data...
[nltk_data]   Package wordnet is already up-to-date!
[nltk_data] Downloading package punkt to
[nltk_data]     C:\Users\firoc\AppData\Roaming\nltk_data...
[nltk_data]   Package punkt is already up-to-date!
[nltk_data] Downloading package omw-1.4 to
[nltk_data]     C:\Users\firoc\AppData\Roaming\nltk_data...
[nltk_data]   Package omw-1.4 is already up-to-date!
Accuracy: 0.7867647058823529
              precision    recall  f1-score   support

   angriness       0.89      0.77      0.82       150
   happiness       0.69      0.90      0.78       137
     sadness       0.83      0.69      0.75       121

    accuracy                           0.79       408
   macro avg       0.80      0.78      0.78       408
weighted avg       0.80      0.79      0.79       408

[[115  25  10]
 [  7 123   7]
 [  7  31  83]]
Fitting 5 folds for each of 4 candidates, totalling 20 fits
[CV] END ..............................................C=0.1; total time=   0.1s
[CV] END ..............................................C=0.1; total time=   0.1s
[CV] END ..............................................C=0.1; total time=   0.1s
[CV] END ..............................................C=0.1; total time=   0.1s
[CV] END ..............................................C=0.1; total time=   0.1s
[CV] END ................................................C=1; total time=   0.3s
[CV] END ................................................C=1; total time=   0.4s
[CV] END ................................................C=1; total time=   0.3s
[CV] END ................................................C=1; total time=   0.3s
[CV] END ................................................C=1; total time=   0.2s
[CV] END ...............................................C=10; total time=   0.7s
[CV] END ...............................................C=10; total time=   0.8s
[CV] END ...............................................C=10; total time=   0.9s
[CV] END ...............................................C=10; total time=   0.7s
[CV] END ...............................................C=10; total time=   0.8s
[CV] END ..............................................C=100; total time=   1.5s
[CV] END ..............................................C=100; total time=   1.4s
[CV] END ..............................................C=100; total time=   1.5s
[CV] END ..............................................C=100; total time=   1.6s
[CV] END ..............................................C=100; total time=   1.4s
Best Parameters: {'C': 1}
Accuracy with Best Parameters: 0.7867647058823529
              precision    recall  f1-score   support

   angriness       0.89      0.77      0.82       150
   happiness       0.69      0.90      0.78       137
     sadness       0.83      0.69      0.75       121

    accuracy                           0.79       408
   macro avg       0.80      0.78      0.78       408
weighted avg       0.80      0.79      0.79       408

['vectorizer.pkl']
​
